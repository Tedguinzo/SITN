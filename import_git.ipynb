{
 "cells": [
  {
   "cell_type": "markdown",
   "metadata": {},
   "source": [
    "### Commande pour mporter le contenu du github dans un dossier SITN\n",
    "\n",
    "(le dossier est créé s'il n'existe pas. Il est possible de spécifier le nom du fichier de destination ex : </br>\n",
    "git clone https://github.com/Tedguinzo/SITN.git dossier_de_destination"
   ]
  },
  {
   "cell_type": "code",
   "execution_count": 10,
   "metadata": {},
   "outputs": [
    {
     "name": "stdout",
     "output_type": "stream",
     "text": [
      "Clonage dans 'SITN'...\n",
      "remote: Enumerating objects: 60, done.\u001b[K\n",
      "remote: Counting objects: 100% (60/60), done.\u001b[K0)\u001b[K\n",
      "remote: Compressing objects: 100% (57/57), done.\u001b[K\n",
      "remote: Total 60 (delta 25), reused 0 (delta 0), pack-reused 0\u001b[K\n",
      "Dépaquetage des objets: 100% (60/60), 220.68 Kio | 859.00 Kio/s, fait.\n"
     ]
    }
   ],
   "source": [
    "!git clone https://github.com/Tedguinzo/SITN.git"
   ]
  },
  {
   "cell_type": "markdown",
   "metadata": {},
   "source": [
    "### Supprimer le dossier : !rm -Rf nom_du_dossier"
   ]
  },
  {
   "cell_type": "code",
   "execution_count": 9,
   "metadata": {},
   "outputs": [],
   "source": [
    "!rm -Rf SITN"
   ]
  },
  {
   "cell_type": "markdown",
   "metadata": {},
   "source": [
    "### Mise à jour du dossier SITN"
   ]
  },
  {
   "cell_type": "code",
   "execution_count": 11,
   "metadata": {},
   "outputs": [
    {
     "name": "stdout",
     "output_type": "stream",
     "text": [
      "Depuis https://github.com/Tedguinzo/SITN\n",
      " * branch            HEAD       -> FETCH_HEAD\n",
      "Déjà à jour.\n"
     ]
    }
   ],
   "source": [
    "!cd SITN; git pull https://github.com/Tedguinzo/SITN.git "
   ]
  },
  {
   "cell_type": "markdown",
   "metadata": {},
   "source": [
    "### Met à jour le dossier, ou le télécharge s'il n'existe pas (noyau Python3)"
   ]
  },
  {
   "cell_type": "code",
   "execution_count": 7,
   "metadata": {},
   "outputs": [
    {
     "name": "stdout",
     "output_type": "stream",
     "text": [
      "Déjà à jour.\n"
     ]
    },
    {
     "name": "stderr",
     "output_type": "stream",
     "text": [
      "Depuis https://github.com/Tedguinzo/SITN\n",
      " * branch            HEAD       -> FETCH_HEAD\n"
     ]
    }
   ],
   "source": [
    "%%bash\n",
    "if [ -d \"SITN\" ]; then \n",
    "    ! cd SITN; git pull https://github.com/Tedguinzo/SITN.git ;\n",
    "else \n",
    "   ! git clone https://github.com/Tedguinzo/SITN.git ;\n",
    "fi"
   ]
  },
  {
   "cell_type": "code",
   "execution_count": null,
   "metadata": {},
   "outputs": [],
   "source": []
  }
 ],
 "metadata": {
  "kernelspec": {
   "display_name": "Python 3",
   "language": "python",
   "name": "python3"
  },
  "language_info": {
   "codemirror_mode": {
    "name": "ipython",
    "version": 3
   },
   "file_extension": ".py",
   "mimetype": "text/x-python",
   "name": "python",
   "nbconvert_exporter": "python",
   "pygments_lexer": "ipython3",
   "version": "3.7.6"
  }
 },
 "nbformat": 4,
 "nbformat_minor": 4
}
